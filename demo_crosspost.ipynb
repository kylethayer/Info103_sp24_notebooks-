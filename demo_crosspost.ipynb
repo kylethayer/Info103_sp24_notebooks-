{
 "cells": [
  {
   "cell_type": "markdown",
   "id": "f2446309-25e4-4582-a537-b8292885dcad",
   "metadata": {},
   "source": [
    "# Demo: Crosspost to another subreddit\n",
    "If you find a reddit submission, this is how to crosspost it to another subreddit"
   ]
  },
  {
   "cell_type": "markdown",
   "id": "ae27cd44-3897-4154-b7a1-a5a807bf92c7",
   "metadata": {},
   "source": [
    "## Normal Reddit PRAW Setup"
   ]
  },
  {
   "cell_type": "code",
   "execution_count": 2,
   "id": "0d45a981-86cd-41f0-bc0a-066afdc985b4",
   "metadata": {
    "tags": []
   },
   "outputs": [],
   "source": [
    "import praw"
   ]
  },
  {
   "cell_type": "code",
   "execution_count": 3,
   "id": "72567e4d-e517-43f1-a949-49fb29120ddf",
   "metadata": {},
   "outputs": [],
   "source": [
    "%run reddit_keys.py"
   ]
  },
  {
   "cell_type": "code",
   "execution_count": 4,
   "id": "94c2d5da-d971-454a-aebf-3ed64e286b01",
   "metadata": {},
   "outputs": [],
   "source": [
    "# Give the praw code your reddit account info so\n",
    "# it can perform reddit actions\n",
    "reddit = praw.Reddit(\n",
    "    username=username, password=password,\n",
    "    client_id=client_id, client_secret=client_secret,\n",
    "    user_agent=\"a custom python script for user /\" + str(username)\n",
    ")"
   ]
  },
  {
   "cell_type": "markdown",
   "id": "544f922d-0b24-4923-b635-c5de0fb39da1",
   "metadata": {},
   "source": [
    "## Crosspost a random news post\n",
    "\n",
    "This code finds 10 \"hot\" posts from the \"news\" subreddit, randomly chooses one, and crossposts it to \"info103_sp24_bot_test\""
   ]
  },
  {
   "cell_type": "code",
   "execution_count": 5,
   "id": "7232d9db-74c3-44c6-a835-6d541fca3e0e",
   "metadata": {
    "scrolled": true
   },
   "outputs": [
    {
     "data": {
      "text/plain": [
       "Submission(id='1crcqk6')"
      ]
     },
     "execution_count": 5,
     "metadata": {},
     "output_type": "execute_result"
    }
   ],
   "source": [
    "# Look up the subreddit \"news\", then find the \"hot\" list, getting up to 10 submission\n",
    "submissions = reddit.subreddit(\"news\").hot(limit=10)\n",
    "\n",
    "# Turn the submission results into a Python List\n",
    "submissions_list = list(submissions)\n",
    "\n",
    "# choose a random entry\n",
    "import random\n",
    "rand_submission = random.choice(submissions_list)\n",
    "\n",
    "rand_submission.crosspost(\"info103_sp24_bot_test\")\n"
   ]
  },
  {
   "cell_type": "code",
   "execution_count": null,
   "id": "3deadeb7-5bcd-4ba9-91da-a50a0f205830",
   "metadata": {},
   "outputs": [],
   "source": []
  }
 ],
 "metadata": {
  "kernelspec": {
   "display_name": "Python 3 (ipykernel)",
   "language": "python",
   "name": "python3"
  },
  "language_info": {
   "codemirror_mode": {
    "name": "ipython",
    "version": 3
   },
   "file_extension": ".py",
   "mimetype": "text/x-python",
   "name": "python",
   "nbconvert_exporter": "python",
   "pygments_lexer": "ipython3",
   "version": "3.10.13"
  }
 },
 "nbformat": 4,
 "nbformat_minor": 5
}
