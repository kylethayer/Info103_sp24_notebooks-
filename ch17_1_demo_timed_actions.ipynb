{
 "cells": [
  {
   "cell_type": "markdown",
   "id": "ca8a4d07-9426-4e40-ace6-0a81a2d74558",
   "metadata": {},
   "source": [
    "# Ch 17 demo: Timed actions"
   ]
  },
  {
   "cell_type": "markdown",
   "id": "0fe66180-e66c-47ee-9785-26b892297ddc",
   "metadata": {},
   "source": [
    "This is a demo which shows how to schedule a task to run on a specific schedule"
   ]
  },
  {
   "cell_type": "markdown",
   "id": "55b50eb3-54a7-48cc-9044-2d5887b5a89e",
   "metadata": {},
   "source": [
    "## Reddit Praw Setup"
   ]
  },
  {
   "cell_type": "code",
   "execution_count": null,
   "id": "1f5f35b3-9a8e-4ab3-bc4e-3945292fcedf",
   "metadata": {},
   "outputs": [],
   "source": [
    "# make sure praw library is installed\n",
    "import praw"
   ]
  },
  {
   "cell_type": "markdown",
   "id": "bd6e3d51-9524-48a3-88ff-edf060e8b877",
   "metadata": {},
   "source": [
    "(optional) use the fake version of Reddit praw, so you don't have to use real Reddit developer access passwords"
   ]
  },
  {
   "cell_type": "code",
   "execution_count": null,
   "id": "556ba34a-8e5d-41c0-9663-21784b99f4a0",
   "metadata": {},
   "outputs": [],
   "source": [
    "%run fake_apis/fake_praw.ipynb"
   ]
  },
  {
   "cell_type": "code",
   "execution_count": null,
   "id": "39dc0def-3a51-4048-a657-9b4006a45407",
   "metadata": {},
   "outputs": [],
   "source": [
    "%run reddit_keys.py"
   ]
  },
  {
   "cell_type": "code",
   "execution_count": null,
   "id": "bc314e0f-6536-40ef-8ca6-b90e4817f216",
   "metadata": {},
   "outputs": [],
   "source": [
    "# Give the praw code your reddit account info so\n",
    "# it can perform reddit actions\n",
    "reddit = praw.Reddit(\n",
    "    username=username, password=password,\n",
    "    client_id=client_id, client_secret=client_secret,\n",
    "    user_agent=\"a custom python script for user /\" + str(username)\n",
    ")"
   ]
  },
  {
   "cell_type": "markdown",
   "id": "2f72bcb0-1165-4ca5-ace0-0b39e3bd99d3",
   "metadata": {},
   "source": [
    "## Timed actions\n",
    "load `schedule` library and `time` library that helps us with scheduling"
   ]
  },
  {
   "cell_type": "code",
   "execution_count": null,
   "id": "e8f829a3-96df-4f34-a508-a68680f38451",
   "metadata": {},
   "outputs": [],
   "source": [
    "# load a library that gives us a scheduling actions\n",
    "import schedule\n",
    "\n",
    "# load time library so we can write code to \n",
    "# check every second if there is a task to run\n",
    "from time import sleep"
   ]
  },
  {
   "cell_type": "markdown",
   "id": "a0d58662-bc33-4a1a-9d54-8b8960745458",
   "metadata": {},
   "source": [
    "Define a function that will be a task to run on a schedule"
   ]
  },
  {
   "cell_type": "code",
   "execution_count": null,
   "id": "d89bd401-af82-4daf-8b41-5ba75748fb41",
   "metadata": {},
   "outputs": [],
   "source": [
    "# Define a function that when run will say that it will post \"it's lunchtime!\"\n",
    "def say_it_is_lunchtime():\n",
    "    # when the function is run, post to reddit\n",
    "    reddit.subreddit(\n",
    "       \"info_103_sp23\"\n",
    "    ).submit(\n",
    "       \"It's lunchtime!\", \n",
    "       selftext = \"Get some food!\"\n",
    "    )"
   ]
  },
  {
   "cell_type": "markdown",
   "id": "1b991ed9-7106-44af-bb0e-8d81e9189530",
   "metadata": {},
   "source": [
    "set the schedule for when the task should run. See more scheduling examples here: [https://schedule.readthedocs.io/en/stable/examples.html](https://schedule.readthedocs.io/en/stable/examples.html)"
   ]
  },
  {
   "cell_type": "code",
   "execution_count": null,
   "id": "737956bd-6765-4bfa-bf03-6262f7633966",
   "metadata": {},
   "outputs": [],
   "source": [
    "# schedule the \"say_it_is_lunchtime\" function to run every day at noon\n",
    "schedule.every().day.at(\"12:00\").do(say_it_is_lunchtime)"
   ]
  },
  {
   "cell_type": "markdown",
   "id": "cc315c63-bddf-4d42-9a26-d4ffe44c2efb",
   "metadata": {},
   "source": [
    "Run code that will loop forever, every second running any tasks that are ready to run"
   ]
  },
  {
   "cell_type": "code",
   "execution_count": null,
   "id": "e61a11e2-ad85-4796-a211-e06222a7dbe7",
   "metadata": {},
   "outputs": [],
   "source": [
    "# Loop forever, once a second running every task that needs to be run\n",
    "while True:\n",
    "    # if any tasks are ready to run, run them\n",
    "    schedule.run_pending()\n",
    "    # pause for 1 second before checking again\n",
    "    sleep(1)"
   ]
  },
  {
   "cell_type": "code",
   "execution_count": null,
   "id": "2d970a8d-d0ed-43c7-9c10-8419e133d788",
   "metadata": {},
   "outputs": [],
   "source": []
  }
 ],
 "metadata": {
  "kernelspec": {
   "display_name": "Python 3 (ipykernel)",
   "language": "python",
   "name": "python3"
  },
  "language_info": {
   "codemirror_mode": {
    "name": "ipython",
    "version": 3
   },
   "file_extension": ".py",
   "mimetype": "text/x-python",
   "name": "python",
   "nbconvert_exporter": "python",
   "pygments_lexer": "ipython3",
   "version": "3.9.7"
  }
 },
 "nbformat": 4,
 "nbformat_minor": 5
}
